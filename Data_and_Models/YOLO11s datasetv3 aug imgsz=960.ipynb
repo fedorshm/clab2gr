{
 "cells": [
  {
   "cell_type": "code",
   "execution_count": 3,
   "id": "04f1bcd5-18b6-45aa-859b-8697a2c65408",
   "metadata": {},
   "outputs": [
    {
     "name": "stdout",
     "output_type": "stream",
     "text": [
      "Ultralytics 8.3.34  Python-3.11.9 torch-2.5.1+cpu CPU (AMD Ryzen 7 7840HS w/ Radeon 780M Graphics)\n",
      "YOLO11s summary (fused): 238 layers, 9,417,444 parameters, 0 gradients, 21.3 GFLOPs\n"
     ]
    },
    {
     "name": "stderr",
     "output_type": "stream",
     "text": [
      "\u001b[34m\u001b[1mval: \u001b[0mScanning D:\\dataset_v3\\val\\labels... 1000 images, 0 backgrounds, 0 corrupt: 100%|██████████| 1000/1000 [00:02<00:0\u001b[0m\n"
     ]
    },
    {
     "name": "stdout",
     "output_type": "stream",
     "text": [
      "\u001b[34m\u001b[1mval: \u001b[0mNew cache created: D:\\dataset_v3\\val\\labels.cache\n"
     ]
    },
    {
     "name": "stderr",
     "output_type": "stream",
     "text": [
      "                 Class     Images  Instances      Box(P          R      mAP50  mAP50-95): 100%|██████████| 63/63 [07:01\n"
     ]
    },
    {
     "name": "stdout",
     "output_type": "stream",
     "text": [
      "                   all       1000       6485      0.971      0.923      0.969      0.953\n",
      "                 title        182        224      0.897      0.815      0.905      0.841\n",
      "             paragraph        737       1215      0.969      0.932      0.972      0.944\n",
      "                 table        531        705      0.999          1      0.995      0.994\n",
      "               picture        512        672      0.986      0.991      0.992      0.989\n",
      "       table_signature        380        450          1      0.999      0.995       0.99\n",
      "     picture_signature        372        404      0.997          1      0.995       0.99\n",
      "         numbered_list        285        313      0.984      0.955      0.985      0.979\n",
      "           marked_list        255        297       0.99      0.987      0.989      0.986\n",
      "                header       1000       1000          1          1      0.995      0.989\n",
      "                footer       1000       1000          1      0.766      0.995      0.975\n",
      "              footnote        163        183          1      0.988      0.995      0.986\n",
      "               formula         20         22      0.831      0.636      0.818      0.779\n",
      "Speed: 5.5ms preprocess, 296.4ms inference, 0.0ms loss, 0.4ms postprocess per image\n",
      "Results saved to \u001b[1mruns\\detect\\val\u001b[0m\n",
      "Precision: 0.9710033947119321\n",
      "Recall: 0.9225413194072026\n",
      "F1 Score: 0.9461522046213046\n",
      "mIoU (mAP50-95): 0.9534837961529748\n",
      "Fitness: 0.9550608515954393\n"
     ]
    }
   ],
   "source": [
    "from ultralytics import YOLO\n",
    "\n",
    "# Укажите путь к модели и датасету\n",
    "model_path = \"C:\\\\Users\\\\Vito\\\\Jupyter\\\\Models\\\\runs YOLO11s datasetv3 aug imgsz=960\\\\detect\\\\train\\\\weights\\\\best.pt\"  # путь к модели\n",
    "data_yaml_path = \"D:\\\\dataset_v3\\\\data.yaml\"  # путь к data.yaml\n",
    "\n",
    "# Загружаем модель\n",
    "model = YOLO(model_path)\n",
    "\n",
    "# Проводим валидацию\n",
    "results = model.val(data=data_yaml_path)  # путь к файлу data.yaml\n",
    "# Получаем метрики из results_dict\n",
    "metrics = results.results_dict\n",
    "\n",
    "# Получаем precision и recall\n",
    "precision = metrics['metrics/precision(B)']\n",
    "recall = metrics['metrics/recall(B)']\n",
    "\n",
    "# Вычисляем F1\n",
    "f1_score = 2 * (precision * recall) / (precision + recall)\n",
    "\n",
    "# Получаем mIoU (mAP50-95)\n",
    "mAP50_95 = metrics['metrics/mAP50-95(B)']\n",
    "\n",
    "# Печатаем метрики\n",
    "print(\"Precision:\", precision)\n",
    "print(\"Recall:\", recall)\n",
    "print(\"F1 Score:\", f1_score)\n",
    "print(\"mIoU (mAP50-95):\", mAP50_95)\n",
    "print(\"Fitness:\", metrics['fitness'])"
   ]
  },
  {
   "cell_type": "code",
   "execution_count": 5,
   "id": "931f017c-8b42-4a89-87ec-0adc0692e4c5",
   "metadata": {},
   "outputs": [
    {
     "name": "stdout",
     "output_type": "stream",
     "text": [
      "Файл YAML для тестового набора сохранён в: C:\\Users\\Vito\\Jupyter\\Генератор\\test\\test.yaml\n",
      "Ultralytics 8.3.34  Python-3.11.9 torch-2.5.1+cpu CPU (AMD Ryzen 7 7840HS w/ Radeon 780M Graphics)\n"
     ]
    },
    {
     "name": "stderr",
     "output_type": "stream",
     "text": [
      "\u001b[34m\u001b[1mval: \u001b[0mScanning C:\\Users\\Vito\\Jupyter\\Генератор\\test\\labels... 1000 images, 0 backgrounds, 0 corrupt: 100%|██████████| 10\u001b[0m\n"
     ]
    },
    {
     "name": "stdout",
     "output_type": "stream",
     "text": [
      "\u001b[34m\u001b[1mval: \u001b[0mNew cache created: C:\\Users\\Vito\\Jupyter\\\\test\\labels.cache\n"
     ]
    },
    {
     "name": "stderr",
     "output_type": "stream",
     "text": [
      "                 Class     Images  Instances      Box(P          R      mAP50  mAP50-95): 100%|██████████| 63/63 [07:25\n"
     ]
    },
    {
     "name": "stdout",
     "output_type": "stream",
     "text": [
      "                   all       1000       6521      0.966      0.919       0.95      0.934\n",
      "                 title        190        243      0.931      0.886      0.937      0.905\n",
      "             paragraph        764       1295      0.963      0.937      0.972       0.94\n",
      "                 table        492        642      0.999          1      0.995      0.995\n",
      "               picture        493        660      0.987      0.997       0.99      0.988\n",
      "       table_signature        330        391          1      0.998      0.995      0.991\n",
      "     picture_signature        357        406      0.999          1      0.995      0.989\n",
      "         numbered_list        297        342       0.99       0.98       0.99      0.985\n",
      "           marked_list        273        307      0.991      0.993      0.994      0.992\n",
      "                header       1000       1000          1          1      0.995      0.989\n",
      "                footer       1000       1000          1      0.738      0.995      0.974\n",
      "              footnote        189        218      0.995      0.972      0.989      0.981\n",
      "               formula         17         17       0.74      0.529      0.555      0.478\n",
      "Speed: 5.4ms preprocess, 315.3ms inference, 0.0ms loss, 0.4ms postprocess per image\n",
      "Results saved to \u001b[1mruns\\detect\\val2\u001b[0m\n",
      "Precision: 0.966216471665268\n",
      "Recall: 0.9193137020030303\n",
      "F1 Score: 0.9421817310669728\n",
      "mIoU (mAP50-95): 0.9338875015065237\n",
      "Fitness: 0.9355054868752979\n"
     ]
    }
   ],
   "source": [
    "import os\n",
    "\n",
    "# Путь к тестовому набору данных\n",
    "test_data_path = r\"C:\\Users\\Vito\\Jupyter\\Генератор\\test\"\n",
    "\n",
    "# Проверяем существование необходимых папок\n",
    "if not os.path.exists(os.path.join(test_data_path, \"images\")):\n",
    "    raise FileNotFoundError(f\"Папка с изображениями {os.path.join(test_data_path, 'images')} не найдена.\")\n",
    "if not os.path.exists(os.path.join(test_data_path, \"labels\")):\n",
    "    raise FileNotFoundError(f\"Папка с разметкой {os.path.join(test_data_path, 'labels')} не найдена.\")\n",
    "\n",
    "# Формируем YAML-строку с описанием тестового набора\n",
    "test_data_yaml = (\n",
    "    \"path: \" + test_data_path.replace(\"\\\\\", \"/\") + \"\\n\"\n",
    "    \"train: \\\"\\\"  # Пустой путь, так как обучение не требуется\\n\"\n",
    "    \"val: images\\n\"\n",
    "    \"names:\\n\"\n",
    "    \"  0: title\\n\"\n",
    "    \"  1: paragraph\\n\"\n",
    "    \"  2: table\\n\"\n",
    "    \"  3: picture\\n\"\n",
    "    \"  4: table_signature\\n\"\n",
    "    \"  5: picture_signature\\n\"\n",
    "    \"  6: numbered_list\\n\"\n",
    "    \"  7: marked_list\\n\"\n",
    "    \"  8: header\\n\"\n",
    "    \"  9: footer\\n\"\n",
    "    \"  10: footnote\\n\"\n",
    "    \"  11: formula\\n\"\n",
    ")\n",
    "\n",
    "# Сохраняем YAML-файл\n",
    "yaml_path = os.path.join(test_data_path, \"test.yaml\")\n",
    "with open(yaml_path, \"w\", encoding=\"utf-8\") as file:\n",
    "    file.write(test_data_yaml)\n",
    "\n",
    "print(f\"Файл YAML для тестового набора сохранён в: {yaml_path}\")\n",
    "\n",
    "# Выполняем валидацию на тестовом наборе\n",
    "results = model.val(data=yaml_path)\n",
    "\n",
    "# Получаем метрики из results_dict\n",
    "metrics = results.results_dict\n",
    "\n",
    "# Извлекаем precision и recall\n",
    "precision = metrics['metrics/precision(B)']\n",
    "recall = metrics['metrics/recall(B)']\n",
    "\n",
    "# Вычисляем F1 Score\n",
    "f1_score = 2 * (precision * recall) / (precision + recall)\n",
    "\n",
    "# Извлекаем mIoU (mAP50-95)\n",
    "mAP50_95 = metrics['metrics/mAP50-95(B)']\n",
    "\n",
    "# Печатаем метрики\n",
    "print(\"Precision:\", precision)\n",
    "print(\"Recall:\", recall)\n",
    "print(\"F1 Score:\", f1_score)\n",
    "print(\"mIoU (mAP50-95):\", mAP50_95)\n",
    "print(\"Fitness:\", metrics['fitness'])"
   ]
  }
 ],
 "metadata": {
  "kernelspec": {
   "display_name": "Python 3 (ipykernel)",
   "language": "python",
   "name": "python3"
  },
  "language_info": {
   "codemirror_mode": {
    "name": "ipython",
    "version": 3
   },
   "file_extension": ".py",
   "mimetype": "text/x-python",
   "name": "python",
   "nbconvert_exporter": "python",
   "pygments_lexer": "ipython3",
   "version": "3.11.9"
  }
 },
 "nbformat": 4,
 "nbformat_minor": 5
}
