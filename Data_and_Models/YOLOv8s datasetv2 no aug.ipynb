{
 "cells": [
  {
   "cell_type": "code",
   "execution_count": 7,
   "id": "88833f7c-8995-4e4e-b98b-101f32e67014",
   "metadata": {},
   "outputs": [
    {
     "name": "stdout",
     "output_type": "stream",
     "text": [
      "Ultralytics 8.3.34  Python-3.11.0rc2 torch-2.1.2+cu121 CUDA:0 (NVIDIA GeForce RTX 4060 Laptop GPU, 8188MiB)\n",
      "Model summary (fused): 168 layers, 11,130,228 parameters, 0 gradients, 28.5 GFLOPs\n"
     ]
    },
    {
     "name": "stderr",
     "output_type": "stream",
     "text": [
      "\u001b[34m\u001b[1mval: \u001b[0mScanning C:\\Users\\.Амир\\Vital\\dataset_v2\\val\\labels... 1343 images, 0 backgrounds, 0 corrupt: 100%|██████████| 134\u001b[0m\n"
     ]
    },
    {
     "name": "stdout",
     "output_type": "stream",
     "text": [
      "\u001b[34m\u001b[1mval: \u001b[0mNew cache created: C:\\Users\\.\\Vital\\dataset_v2\\val\\labels.cache\n"
     ]
    },
    {
     "name": "stderr",
     "output_type": "stream",
     "text": [
      "                 Class     Images  Instances      Box(P          R      mAP50  mAP50-95): 100%|██████████| 84/84 [00:14\n"
     ]
    },
    {
     "name": "stdout",
     "output_type": "stream",
     "text": [
      "                   all       1343       9240      0.792      0.756      0.764      0.668\n",
      "                 title        235        303      0.649      0.657      0.641      0.548\n",
      "             paragraph       1042       2162      0.535      0.675      0.638       0.52\n",
      "                 table        672        870      0.932      0.856      0.911      0.904\n",
      "               picture        540        640      0.942      0.886      0.955      0.946\n",
      "       table_signature        464        552      0.995        0.9      0.978      0.856\n",
      "     picture_signature        506        584      0.991      0.958       0.99      0.887\n",
      "         numbered_list        365        430      0.519      0.677      0.565      0.419\n",
      "           marked_list        357        416      0.509      0.724      0.573      0.419\n",
      "                header       1343       1343      0.997      0.994      0.995      0.897\n",
      "                footer       1343       1343          1      0.847      0.935      0.793\n",
      "              footnote        245        278      0.698      0.133      0.202      0.148\n",
      "               formula        277        319      0.738      0.767      0.784      0.674\n",
      "Speed: 0.2ms preprocess, 4.8ms inference, 0.0ms loss, 1.1ms postprocess per image\n",
      "Results saved to \u001b[1mruns\\detect\\val9\u001b[0m\n",
      "Precision: 0.7920323169907539\n",
      "Recall: 0.7560062727200952\n",
      "F1 Score: 0.7736000947545945\n",
      "mIoU (mAP50-95): 0.667667239187264\n",
      "Fitness: 0.6772798539360997\n"
     ]
    }
   ],
   "source": [
    "from ultralytics import YOLO\n",
    "\n",
    "# Укажите путь к модели и датасету\n",
    "model_path = \"D:\\\\runs YOLOv8s datasetv2 no aug\\\\detect\\\\train\\\\weights\\\\best.pt\"  # путь к модели\n",
    "data_yaml_path = \"C:\\\\Users\\\\.Амир\\\\Vital\\\\dataset_v2\\\\data.yaml\"  # путь к data.yaml\n",
    "\n",
    "# Загружаем модель\n",
    "model = YOLO(model_path)\n",
    "\n",
    "# Проводим валидацию\n",
    "results = model.val(data=data_yaml_path)  # путь к файлу data.yaml\n",
    "# Получаем метрики из results_dict\n",
    "metrics = results.results_dict\n",
    "\n",
    "# Получаем precision и recall\n",
    "precision = metrics['metrics/precision(B)']\n",
    "recall = metrics['metrics/recall(B)']\n",
    "\n",
    "# Вычисляем F1\n",
    "f1_score = 2 * (precision * recall) / (precision + recall)\n",
    "\n",
    "# Получаем mIoU (mAP50-95)\n",
    "mAP50_95 = metrics['metrics/mAP50-95(B)']\n",
    "\n",
    "# Печатаем метрики\n",
    "print(\"Precision:\", precision)\n",
    "print(\"Recall:\", recall)\n",
    "print(\"F1 Score:\", f1_score)\n",
    "print(\"mIoU (mAP50-95):\", mAP50_95)\n",
    "print(\"Fitness:\", metrics['fitness'])"
   ]
  }
 ],
 "metadata": {
  "kernelspec": {
   "display_name": "Python 3 (ipykernel)",
   "language": "python",
   "name": "python3"
  },
  "language_info": {
   "codemirror_mode": {
    "name": "ipython",
    "version": 3
   },
   "file_extension": ".py",
   "mimetype": "text/x-python",
   "name": "python",
   "nbconvert_exporter": "python",
   "pygments_lexer": "ipython3",
   "version": "3.11.9"
  }
 },
 "nbformat": 4,
 "nbformat_minor": 5
}
