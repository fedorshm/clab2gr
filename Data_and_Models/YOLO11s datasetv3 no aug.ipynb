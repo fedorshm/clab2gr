{
 "cells": [
  {
   "cell_type": "code",
   "execution_count": 1,
   "id": "c36c9f37-d803-4a77-bf10-7c1140b6bb1a",
   "metadata": {},
   "outputs": [
    {
     "name": "stdout",
     "output_type": "stream",
     "text": [
      "Ultralytics 8.3.34  Python-3.11.0rc2 torch-2.1.2+cu121 CUDA:0 (NVIDIA GeForce RTX 4060 Laptop GPU, 8188MiB)\n",
      "YOLO11s summary (fused): 238 layers, 9,417,444 parameters, 0 gradients, 21.3 GFLOPs\n"
     ]
    },
    {
     "name": "stderr",
     "output_type": "stream",
     "text": [
      "\u001b[34m\u001b[1mval: \u001b[0mScanning C:\\Users\\.Амир\\Vital\\dataset_v3\\val\\labels.cache... 1000 images, 0 backgrounds, 0 corrupt: 100%|█████████\u001b[0m\n",
      "                 Class     Images  Instances      Box(P          R      mAP50  mAP50-95): 100%|██████████| 63/63 [00:10\n"
     ]
    },
    {
     "name": "stdout",
     "output_type": "stream",
     "text": [
      "                   all       1000       6485      0.931      0.933       0.95      0.873\n",
      "                 title        182        224      0.736      0.817      0.842      0.763\n",
      "             paragraph        737       1215      0.941      0.919      0.957      0.907\n",
      "                 table        531        705      0.994      0.997      0.995      0.992\n",
      "               picture        512        672      0.982      0.992      0.994      0.988\n",
      "       table_signature        380        450      0.996      0.989      0.994      0.851\n",
      "     picture_signature        372        404      0.998      0.988      0.995      0.844\n",
      "         numbered_list        285        313       0.96      0.946      0.979      0.961\n",
      "           marked_list        255        297      0.987       0.99      0.991      0.977\n",
      "                header       1000       1000      0.999      0.998      0.995       0.86\n",
      "                footer       1000       1000          1      0.891      0.942      0.764\n",
      "              footnote        163        183      0.992      0.984      0.993      0.969\n",
      "               formula         20         22      0.585      0.682      0.718      0.599\n",
      "Speed: 0.2ms preprocess, 5.0ms inference, 0.0ms loss, 1.1ms postprocess per image\n",
      "Results saved to \u001b[1mruns\\detect\\val3\u001b[0m\n",
      "Precision: 0.9307130452447772\n",
      "Recall: 0.9325349599174734\n",
      "F1 Score: 0.9316231118319964\n",
      "mIoU (mAP50-95): 0.8729714141592846\n",
      "Fitness: 0.8806306033457634\n"
     ]
    }
   ],
   "source": [
    "from ultralytics import YOLO\n",
    "\n",
    "# Укажите путь к модели и датасету\n",
    "model_path = \"D:\\\\runs YOLO11s datasetv3 no aug\\\\detect\\\\train\\\\weights\\\\best.pt\"  # путь к модели\n",
    "data_yaml_path = \"C:\\\\Users\\\\.Амир\\\\Vital\\\\dataset_v3\\\\data.yaml\"  # путь к data.yaml\n",
    "\n",
    "# Загружаем модель\n",
    "model = YOLO(model_path)\n",
    "\n",
    "# Проводим валидацию\n",
    "results = model.val(data=data_yaml_path)  # путь к файлу data.yaml\n",
    "# Получаем метрики из results_dict\n",
    "metrics = results.results_dict\n",
    "\n",
    "# Получаем precision и recall\n",
    "precision = metrics['metrics/precision(B)']\n",
    "recall = metrics['metrics/recall(B)']\n",
    "\n",
    "# Вычисляем F1\n",
    "f1_score = 2 * (precision * recall) / (precision + recall)\n",
    "\n",
    "# Получаем mIoU (mAP50-95)\n",
    "mAP50_95 = metrics['metrics/mAP50-95(B)']\n",
    "\n",
    "# Печатаем метрики\n",
    "print(\"Precision:\", precision)\n",
    "print(\"Recall:\", recall)\n",
    "print(\"F1 Score:\", f1_score)\n",
    "print(\"mIoU (mAP50-95):\", mAP50_95)\n",
    "print(\"Fitness:\", metrics['fitness'])"
   ]
  },
  {
   "cell_type": "code",
   "execution_count": 3,
   "id": "d87c1399-3154-4a59-acbc-8d08a13d973e",
   "metadata": {},
   "outputs": [
    {
     "name": "stdout",
     "output_type": "stream",
     "text": [
      "Файл YAML для тестового набора сохранён в: C:\\Users\\.Амир\\Vital\\test\\test.yaml\n",
      "Ultralytics 8.3.34  Python-3.11.0rc2 torch-2.1.2+cu121 CUDA:0 (NVIDIA GeForce RTX 4060 Laptop GPU, 8188MiB)\n"
     ]
    },
    {
     "name": "stderr",
     "output_type": "stream",
     "text": [
      "\u001b[34m\u001b[1mval: \u001b[0mScanning C:\\Users\\.Амир\\Vital\\test\\labels... 1000 images, 0 backgrounds, 0 corrupt: 100%|██████████| 1000/1000 [00\u001b[0m"
     ]
    },
    {
     "name": "stdout",
     "output_type": "stream",
     "text": [
      "\u001b[34m\u001b[1mval: \u001b[0mNew cache created: C:\\Users\\.\\Vital\\test\\labels.cache\n"
     ]
    },
    {
     "name": "stderr",
     "output_type": "stream",
     "text": [
      "\n",
      "                 Class     Images  Instances      Box(P          R      mAP50  mAP50-95): 100%|██████████| 63/63 [00:10\n"
     ]
    },
    {
     "name": "stdout",
     "output_type": "stream",
     "text": [
      "                   all       1000       6521      0.938      0.941      0.935      0.865\n",
      "                 title        190        243      0.789      0.897      0.881      0.826\n",
      "             paragraph        764       1295      0.935      0.925      0.961      0.908\n",
      "                 table        492        642      0.992      0.998      0.995      0.993\n",
      "               picture        493        660      0.982      0.997      0.992      0.988\n",
      "       table_signature        330        391      0.998      0.992      0.995      0.856\n",
      "     picture_signature        357        406          1      0.989      0.995      0.861\n",
      "         numbered_list        297        342      0.966      0.962      0.974      0.959\n",
      "           marked_list        273        307      0.977       0.99      0.994      0.974\n",
      "                header       1000       1000      0.997      0.999      0.995      0.858\n",
      "                footer       1000       1000          1      0.856      0.923       0.75\n",
      "              footnote        189        218       0.98      0.977      0.977      0.953\n",
      "               formula         17         17      0.644      0.706      0.541      0.454\n",
      "Speed: 0.2ms preprocess, 4.3ms inference, 0.0ms loss, 1.0ms postprocess per image\n",
      "Results saved to \u001b[1mruns\\detect\\val4\u001b[0m\n",
      "Precision: 0.9384431100332997\n",
      "Recall: 0.9408006413105365\n",
      "F1 Score: 0.9396203968978849\n",
      "mIoU (mAP50-95): 0.8650026508642005\n",
      "Fitness: 0.8720242549809656\n"
     ]
    }
   ],
   "source": [
    "import os\n",
    "\n",
    "# Путь к тестовому набору данных\n",
    "test_data_path = r\"C:\\Users\\.Амир\\Vital\\test\"\n",
    "\n",
    "# Проверяем существование необходимых папок\n",
    "if not os.path.exists(os.path.join(test_data_path, \"images\")):\n",
    "    raise FileNotFoundError(f\"Папка с изображениями {os.path.join(test_data_path, 'images')} не найдена.\")\n",
    "if not os.path.exists(os.path.join(test_data_path, \"labels\")):\n",
    "    raise FileNotFoundError(f\"Папка с разметкой {os.path.join(test_data_path, 'labels')} не найдена.\")\n",
    "\n",
    "# Формируем YAML-строку с описанием тестового набора\n",
    "test_data_yaml = (\n",
    "    \"path: \" + test_data_path.replace(\"\\\\\", \"/\") + \"\\n\"\n",
    "    \"train: \\\"\\\"  # Пустой путь, так как обучение не требуется\\n\"\n",
    "    \"val: images\\n\"\n",
    "    \"names:\\n\"\n",
    "    \"  0: title\\n\"\n",
    "    \"  1: paragraph\\n\"\n",
    "    \"  2: table\\n\"\n",
    "    \"  3: picture\\n\"\n",
    "    \"  4: table_signature\\n\"\n",
    "    \"  5: picture_signature\\n\"\n",
    "    \"  6: numbered_list\\n\"\n",
    "    \"  7: marked_list\\n\"\n",
    "    \"  8: header\\n\"\n",
    "    \"  9: footer\\n\"\n",
    "    \"  10: footnote\\n\"\n",
    "    \"  11: formula\\n\"\n",
    ")\n",
    "\n",
    "# Сохраняем YAML-файл\n",
    "yaml_path = os.path.join(test_data_path, \"test.yaml\")\n",
    "with open(yaml_path, \"w\", encoding=\"utf-8\") as file:\n",
    "    file.write(test_data_yaml)\n",
    "\n",
    "print(f\"Файл YAML для тестового набора сохранён в: {yaml_path}\")\n",
    "\n",
    "# Выполняем валидацию на тестовом наборе\n",
    "results = model.val(data=yaml_path)\n",
    "\n",
    "# Получаем метрики из results_dict\n",
    "metrics = results.results_dict\n",
    "\n",
    "# Извлекаем precision и recall\n",
    "precision = metrics['metrics/precision(B)']\n",
    "recall = metrics['metrics/recall(B)']\n",
    "\n",
    "# Вычисляем F1 Score\n",
    "f1_score = 2 * (precision * recall) / (precision + recall)\n",
    "\n",
    "# Извлекаем mIoU (mAP50-95)\n",
    "mAP50_95 = metrics['metrics/mAP50-95(B)']\n",
    "\n",
    "# Печатаем метрики\n",
    "print(\"Precision:\", precision)\n",
    "print(\"Recall:\", recall)\n",
    "print(\"F1 Score:\", f1_score)\n",
    "print(\"mIoU (mAP50-95):\", mAP50_95)\n",
    "print(\"Fitness:\", metrics['fitness'])"
   ]
  }
 ],
 "metadata": {
  "kernelspec": {
   "display_name": "Python 3 (ipykernel)",
   "language": "python",
   "name": "python3"
  },
  "language_info": {
   "codemirror_mode": {
    "name": "ipython",
    "version": 3
   },
   "file_extension": ".py",
   "mimetype": "text/x-python",
   "name": "python",
   "nbconvert_exporter": "python",
   "pygments_lexer": "ipython3",
   "version": "3.11.9"
  }
 },
 "nbformat": 4,
 "nbformat_minor": 5
}
