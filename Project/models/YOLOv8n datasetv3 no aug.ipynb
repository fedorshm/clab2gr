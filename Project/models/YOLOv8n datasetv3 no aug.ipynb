{
 "cells": [
  {
   "cell_type": "code",
   "execution_count": 1,
   "id": "41e1b32f-3bbf-45ec-b4e9-c6ff3d6c60ac",
   "metadata": {},
   "outputs": [
    {
     "name": "stdout",
     "output_type": "stream",
     "text": [
      "Ultralytics 8.3.34  Python-3.11.0rc2 torch-2.1.2+cu121 CUDA:0 (NVIDIA GeForce RTX 4060 Laptop GPU, 8188MiB)\n",
      "Model summary (fused): 168 layers, 3,007,988 parameters, 0 gradients, 8.1 GFLOPs\n"
     ]
    },
    {
     "name": "stderr",
     "output_type": "stream",
     "text": [
      "\u001b[34m\u001b[1mval: \u001b[0mScanning C:\\Users\\.Амир\\Vital\\dataset_v3\\val\\labels.cache... 1000 images, 0 backgrounds, 0 corrupt: 100%|█████████\u001b[0m\n",
      "                 Class     Images  Instances      Box(P          R      mAP50  mAP50-95): 100%|██████████| 63/63 [00:09\n"
     ]
    },
    {
     "name": "stdout",
     "output_type": "stream",
     "text": [
      "                   all       1000       6485      0.918      0.905      0.929      0.861\n",
      "                 title        182        224       0.65      0.808       0.82      0.738\n",
      "             paragraph        737       1215      0.927      0.894      0.955      0.897\n",
      "                 table        531        705      0.997      0.998      0.995      0.992\n",
      "               picture        512        672      0.976      0.994      0.993      0.981\n",
      "       table_signature        380        450          1      0.987      0.995      0.878\n",
      "     picture_signature        372        404      0.993      0.985      0.995      0.884\n",
      "         numbered_list        285        313      0.977      0.927      0.976      0.958\n",
      "           marked_list        255        297      0.969      0.983      0.989      0.973\n",
      "                header       1000       1000          1      0.999      0.995      0.881\n",
      "                footer       1000       1000          1       0.87      0.943      0.766\n",
      "              footnote        163        183      0.978      0.967      0.985      0.959\n",
      "               formula         20         22      0.548      0.455      0.507      0.426\n",
      "Speed: 0.2ms preprocess, 2.4ms inference, 0.0ms loss, 1.1ms postprocess per image\n",
      "Results saved to \u001b[1mruns\\detect\\val5\u001b[0m\n",
      "Precision: 0.9178949611065826\n",
      "Recall: 0.905449894925233\n",
      "F1 Score: 0.9116299567105631\n",
      "mIoU (mAP50-95): 0.8611769247661971\n",
      "Fitness: 0.8679499326086586\n"
     ]
    }
   ],
   "source": [
    "from ultralytics import YOLO\n",
    "\n",
    "# Укажите путь к модели и датасету\n",
    "model_path = \"D:\\\\runs YOLOv8n datasetv3 no aug\\\\detect\\\\train\\\\weights\\\\best.pt\"  # путь к модели\n",
    "data_yaml_path = \"C:\\\\Users\\\\.Амир\\\\Vital\\\\dataset_v3\\\\data.yaml\"  # путь к data.yaml\n",
    "\n",
    "# Загружаем модель\n",
    "model = YOLO(model_path)\n",
    "\n",
    "# Проводим валидацию\n",
    "results = model.val(data=data_yaml_path)  # путь к файлу data.yaml\n",
    "# Получаем метрики из results_dict\n",
    "metrics = results.results_dict\n",
    "\n",
    "# Получаем precision и recall\n",
    "precision = metrics['metrics/precision(B)']\n",
    "recall = metrics['metrics/recall(B)']\n",
    "\n",
    "# Вычисляем F1\n",
    "f1_score = 2 * (precision * recall) / (precision + recall)\n",
    "\n",
    "# Получаем mIoU (mAP50-95)\n",
    "mAP50_95 = metrics['metrics/mAP50-95(B)']\n",
    "\n",
    "# Печатаем метрики\n",
    "print(\"Precision:\", precision)\n",
    "print(\"Recall:\", recall)\n",
    "print(\"F1 Score:\", f1_score)\n",
    "print(\"mIoU (mAP50-95):\", mAP50_95)\n",
    "print(\"Fitness:\", metrics['fitness'])"
   ]
  },
  {
   "cell_type": "code",
   "execution_count": 3,
   "id": "892ffd2b-b374-4a16-b43d-091901aaeabb",
   "metadata": {},
   "outputs": [
    {
     "name": "stdout",
     "output_type": "stream",
     "text": [
      "Файл YAML для тестового набора сохранён в: C:\\Users\\.Амир\\Vital\\test\\test.yaml\n",
      "Ultralytics 8.3.34  Python-3.11.0rc2 torch-2.1.2+cu121 CUDA:0 (NVIDIA GeForce RTX 4060 Laptop GPU, 8188MiB)\n"
     ]
    },
    {
     "name": "stderr",
     "output_type": "stream",
     "text": [
      "\u001b[34m\u001b[1mval: \u001b[0mScanning C:\\Users\\.Амир\\Vital\\test\\labels... 1000 images, 0 backgrounds, 0 corrupt: 100%|██████████| 1000/1000 [00\u001b[0m\n"
     ]
    },
    {
     "name": "stdout",
     "output_type": "stream",
     "text": [
      "\u001b[34m\u001b[1mval: \u001b[0mNew cache created: C:\\Users\\.\\Vital\\test\\labels.cache\n"
     ]
    },
    {
     "name": "stderr",
     "output_type": "stream",
     "text": [
      "                 Class     Images  Instances      Box(P          R      mAP50  mAP50-95): 100%|██████████| 63/63 [00:10\n"
     ]
    },
    {
     "name": "stdout",
     "output_type": "stream",
     "text": [
      "                   all       1000       6521      0.925      0.901      0.922      0.857\n",
      "                 title        190        243      0.737      0.885      0.862      0.807\n",
      "             paragraph        764       1295       0.93      0.883      0.951      0.888\n",
      "                 table        492        642      0.998      0.997      0.995      0.993\n",
      "               picture        493        660      0.982      0.995      0.989      0.979\n",
      "       table_signature        330        391          1      0.997      0.995      0.874\n",
      "     picture_signature        357        406          1      0.986      0.995      0.892\n",
      "         numbered_list        297        342      0.979      0.944      0.976      0.964\n",
      "           marked_list        273        307      0.972      0.984      0.993      0.979\n",
      "                header       1000       1000      0.999          1      0.995      0.877\n",
      "                footer       1000       1000          1      0.827      0.924      0.753\n",
      "              footnote        189        218      0.977       0.96      0.977      0.956\n",
      "               formula         17         17      0.528      0.353      0.412      0.323\n",
      "Speed: 0.2ms preprocess, 1.8ms inference, 0.0ms loss, 0.9ms postprocess per image\n",
      "Results saved to \u001b[1mruns\\detect\\val6\u001b[0m\n",
      "Precision: 0.9251046987669514\n",
      "Recall: 0.9009499875730863\n",
      "F1 Score: 0.9128675861602142\n",
      "mIoU (mAP50-95): 0.8572217963696294\n",
      "Fitness: 0.863697800406339\n"
     ]
    }
   ],
   "source": [
    "import os\n",
    "\n",
    "# Путь к тестовому набору данных\n",
    "test_data_path = r\"C:\\Users\\.Амир\\Vital\\test\"\n",
    "\n",
    "# Проверяем существование необходимых папок\n",
    "if not os.path.exists(os.path.join(test_data_path, \"images\")):\n",
    "    raise FileNotFoundError(f\"Папка с изображениями {os.path.join(test_data_path, 'images')} не найдена.\")\n",
    "if not os.path.exists(os.path.join(test_data_path, \"labels\")):\n",
    "    raise FileNotFoundError(f\"Папка с разметкой {os.path.join(test_data_path, 'labels')} не найдена.\")\n",
    "\n",
    "# Формируем YAML-строку с описанием тестового набора\n",
    "test_data_yaml = (\n",
    "    \"path: \" + test_data_path.replace(\"\\\\\", \"/\") + \"\\n\"\n",
    "    \"train: \\\"\\\"  # Пустой путь, так как обучение не требуется\\n\"\n",
    "    \"val: images\\n\"\n",
    "    \"names:\\n\"\n",
    "    \"  0: title\\n\"\n",
    "    \"  1: paragraph\\n\"\n",
    "    \"  2: table\\n\"\n",
    "    \"  3: picture\\n\"\n",
    "    \"  4: table_signature\\n\"\n",
    "    \"  5: picture_signature\\n\"\n",
    "    \"  6: numbered_list\\n\"\n",
    "    \"  7: marked_list\\n\"\n",
    "    \"  8: header\\n\"\n",
    "    \"  9: footer\\n\"\n",
    "    \"  10: footnote\\n\"\n",
    "    \"  11: formula\\n\"\n",
    ")\n",
    "\n",
    "# Сохраняем YAML-файл\n",
    "yaml_path = os.path.join(test_data_path, \"test.yaml\")\n",
    "with open(yaml_path, \"w\", encoding=\"utf-8\") as file:\n",
    "    file.write(test_data_yaml)\n",
    "\n",
    "print(f\"Файл YAML для тестового набора сохранён в: {yaml_path}\")\n",
    "\n",
    "# Выполняем валидацию на тестовом наборе\n",
    "results = model.val(data=yaml_path)\n",
    "\n",
    "# Получаем метрики из results_dict\n",
    "metrics = results.results_dict\n",
    "\n",
    "# Извлекаем precision и recall\n",
    "precision = metrics['metrics/precision(B)']\n",
    "recall = metrics['metrics/recall(B)']\n",
    "\n",
    "# Вычисляем F1 Score\n",
    "f1_score = 2 * (precision * recall) / (precision + recall)\n",
    "\n",
    "# Извлекаем mIoU (mAP50-95)\n",
    "mAP50_95 = metrics['metrics/mAP50-95(B)']\n",
    "\n",
    "# Печатаем метрики\n",
    "print(\"Precision:\", precision)\n",
    "print(\"Recall:\", recall)\n",
    "print(\"F1 Score:\", f1_score)\n",
    "print(\"mIoU (mAP50-95):\", mAP50_95)\n",
    "print(\"Fitness:\", metrics['fitness'])"
   ]
  }
 ],
 "metadata": {
  "kernelspec": {
   "display_name": "Python 3 (ipykernel)",
   "language": "python",
   "name": "python3"
  },
  "language_info": {
   "codemirror_mode": {
    "name": "ipython",
    "version": 3
   },
   "file_extension": ".py",
   "mimetype": "text/x-python",
   "name": "python",
   "nbconvert_exporter": "python",
   "pygments_lexer": "ipython3",
   "version": "3.11.9"
  }
 },
 "nbformat": 4,
 "nbformat_minor": 5
}
